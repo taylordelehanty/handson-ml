{
 "cells": [
  {
   "cell_type": "markdown",
   "metadata": {},
   "source": [
    "# Exercises for Chapter 3: Classification"
   ]
  },
  {
   "cell_type": "markdown",
   "metadata": {},
   "source": [
    "### 1) Build a classifier for the MNIST dataset that predicts at 97% accuracy\n",
    "Just in the interest of time, I won't be too focused on achieving 97% accuracy. I want to keep moving on to other parts in the book. I know what I would do and I'm just practicing the basics of what would be done."
   ]
  },
  {
   "cell_type": "code",
   "execution_count": 1,
   "metadata": {},
   "outputs": [],
   "source": [
    "from sklearn.datasets import fetch_mldata\n",
    "import numpy as np\n",
    "from sklearn.preprocessing import StandardScaler\n",
    "from sklearn.model_selection import train_test_split, RandomizedSearchCV\n",
    "from sklearn.pipeline import Pipeline\n",
    "from sklearn.decomposition import PCA\n",
    "from sklearn.neighbors import KNeighborsClassifier\n",
    "from scipy.stats import randint"
   ]
  },
  {
   "cell_type": "code",
   "execution_count": 2,
   "metadata": {},
   "outputs": [],
   "source": [
    "mnist = fetch_mldata('MNIST original')\n",
    "X, y = mnist['data'], mnist['target']\n",
    "X = X.astype(np.float64)"
   ]
  },
  {
   "cell_type": "code",
   "execution_count": 3,
   "metadata": {},
   "outputs": [],
   "source": [
    "%matplotlib inline\n",
    "import matplotlib\n",
    "import matplotlib.pyplot as plt"
   ]
  },
  {
   "cell_type": "code",
   "execution_count": 4,
   "metadata": {},
   "outputs": [
    {
     "data": {
      "image/png": "[encoded data removed]",
      "text/plain": [
       "<Figure size 432x288 with 1 Axes>"
      ]
     },
     "metadata": {},
     "output_type": "display_data"
    }
   ],
   "source": [
    "idx = 501\n",
    "\n",
    "digit = X[idx].reshape(28, 28)\n",
    "plt.imshow(digit, cmap=matplotlib.cm.binary, interpolation='nearest')\n",
    "plt.axis('off')\n",
    "plt.title(\"Digit {}\".format(y[idx]))\n",
    "plt.show()"
   ]
  },
  {
   "cell_type": "code",
   "execution_count": 5,
   "metadata": {},
   "outputs": [
    {
     "data": {
      "text/plain": [
       "((52500, 784), (17500, 784), (52500,), (17500,))"
      ]
     },
     "execution_count": 5,
     "metadata": {},
     "output_type": "execute_result"
    }
   ],
   "source": [
    "X_train, X_test, y_train, y_test = train_test_split(X, y)\n",
    "X_train.shape, X_test.shape, y_train.shape, y_test.shape"
   ]
  },
  {
   "cell_type": "code",
   "execution_count": 6,
   "metadata": {},
   "outputs": [],
   "source": [
    "pipe = Pipeline([\n",
    "    ('scale', StandardScaler()),\n",
    "    ('decom', PCA(n_components=64)),\n",
    "    ('model', KNeighborsClassifier(n_jobs=-1))\n",
    "])\n",
    "\n",
    "rand_dists = {\n",
    "    'model__n_neighbors': randint(3, 10),\n",
    "    'model__weights': ['uniform', 'distance'],\n",
    "    'model__algorithm': ['ball_tree', 'kd_tree', 'brute']\n",
    "}\n",
    "\n",
    "rand_grid = RandomizedSearchCV(pipe, param_distributions=rand_dists, verbose=2, n_iter=5, cv=2)"
   ]
  },
  {
   "cell_type": "code",
   "execution_count": 7,
   "metadata": {},
   "outputs": [
    {
     "name": "stdout",
     "output_type": "stream",
     "text": [
      "Fitting 2 folds for each of 5 candidates, totalling 10 fits\n",
      "[CV] model__algorithm=kd_tree, model__n_neighbors=5, model__weights=uniform \n",
      "[CV]  model__algorithm=kd_tree, model__n_neighbors=5, model__weights=uniform, total= 1.5min\n",
      "[CV] model__algorithm=kd_tree, model__n_neighbors=5, model__weights=uniform \n"
     ]
    },
    {
     "name": "stderr",
     "output_type": "stream",
     "text": [
      "[Parallel(n_jobs=1)]: Done   1 out of   1 | elapsed:  3.0min remaining:    0.0s\n"
     ]
    },
    {
     "name": "stdout",
     "output_type": "stream",
     "text": [
      "[CV]  model__algorithm=kd_tree, model__n_neighbors=5, model__weights=uniform, total= 1.7min\n",
      "[CV] model__algorithm=kd_tree, model__n_neighbors=8, model__weights=distance \n",
      "[CV]  model__algorithm=kd_tree, model__n_neighbors=8, model__weights=distance, total= 1.5min\n",
      "[CV] model__algorithm=kd_tree, model__n_neighbors=8, model__weights=distance \n",
      "[CV]  model__algorithm=kd_tree, model__n_neighbors=8, model__weights=distance, total= 1.7min\n",
      "[CV] model__algorithm=kd_tree, model__n_neighbors=6, model__weights=distance \n",
      "[CV]  model__algorithm=kd_tree, model__n_neighbors=6, model__weights=distance, total= 1.7min\n",
      "[CV] model__algorithm=kd_tree, model__n_neighbors=6, model__weights=distance \n",
      "[CV]  model__algorithm=kd_tree, model__n_neighbors=6, model__weights=distance, total= 1.6min\n",
      "[CV] model__algorithm=brute, model__n_neighbors=4, model__weights=distance \n",
      "[CV]  model__algorithm=brute, model__n_neighbors=4, model__weights=distance, total=  19.4s\n",
      "[CV] model__algorithm=brute, model__n_neighbors=4, model__weights=distance \n",
      "[CV]  model__algorithm=brute, model__n_neighbors=4, model__weights=distance, total=  17.0s\n",
      "[CV] model__algorithm=ball_tree, model__n_neighbors=9, model__weights=uniform \n",
      "[CV]  model__algorithm=ball_tree, model__n_neighbors=9, model__weights=uniform, total= 1.7min\n",
      "[CV] model__algorithm=ball_tree, model__n_neighbors=9, model__weights=uniform \n",
      "[CV]  model__algorithm=ball_tree, model__n_neighbors=9, model__weights=uniform, total= 1.8min\n"
     ]
    },
    {
     "name": "stderr",
     "output_type": "stream",
     "text": [
      "[Parallel(n_jobs=1)]: Done  10 out of  10 | elapsed: 27.1min finished\n"
     ]
    },
    {
     "data": {
      "text/plain": [
       "RandomizedSearchCV(cv=2, error_score='raise',\n",
       "          estimator=Pipeline(memory=None,\n",
       "     steps=[('scale', StandardScaler(copy=True, with_mean=True, with_std=True)), ('decom', PCA(copy=True, iterated_power='auto', n_components=64, random_state=None,\n",
       "  svd_solver='auto', tol=0.0, whiten=False)), ('model', KNeighborsClassifier(algorithm='auto', leaf_size=30, metric='minkowski',\n",
       "           metric_params=None, n_jobs=1, n_neighbors=5, p=2,\n",
       "           weights='uniform'))]),\n",
       "          fit_params=None, iid=True, n_iter=5, n_jobs=1,\n",
       "          param_distributions={'model__n_neighbors': <scipy.stats._distn_infrastructure.rv_frozen object at 0x000002006E84F550>, 'model__weights': ['uniform', 'distance'], 'model__algorithm': ['ball_tree', 'kd_tree', 'brute']},\n",
       "          pre_dispatch='2*n_jobs', random_state=None, refit=True,\n",
       "          return_train_score='warn', scoring=None, verbose=2)"
      ]
     },
     "execution_count": 7,
     "metadata": {},
     "output_type": "execute_result"
    }
   ],
   "source": [
    "rand_grid.fit(X_train, y_train)"
   ]
  },
  {
   "cell_type": "code",
   "execution_count": 9,
   "metadata": {},
   "outputs": [
    {
     "data": {
      "text/plain": [
       "Pipeline(memory=None,\n",
       "     steps=[('scale', StandardScaler(copy=True, with_mean=True, with_std=True)), ('decom', PCA(copy=True, iterated_power='auto', n_components=64, random_state=None,\n",
       "  svd_solver='auto', tol=0.0, whiten=False)), ('model', KNeighborsClassifier(algorithm='brute', leaf_size=30, metric='minkowski',\n",
       "           metric_params=None, n_jobs=1, n_neighbors=4, p=2,\n",
       "           weights='distance'))])"
      ]
     },
     "execution_count": 9,
     "metadata": {},
     "output_type": "execute_result"
    }
   ],
   "source": [
    "est = rand_grid.best_estimator_\n",
    "est"
   ]
  },
  {
   "cell_type": "code",
   "execution_count": 10,
   "metadata": {},
   "outputs": [
    {
     "data": {
      "text/plain": [
       "1.0"
      ]
     },
     "execution_count": 10,
     "metadata": {},
     "output_type": "execute_result"
    }
   ],
   "source": [
    "est.score(X_train, y_train)"
   ]
  },
  {
   "cell_type": "code",
   "execution_count": 11,
   "metadata": {},
   "outputs": [
    {
     "data": {
      "text/plain": [
       "0.9613714285714285"
      ]
     },
     "execution_count": 11,
     "metadata": {},
     "output_type": "execute_result"
    }
   ],
   "source": [
    "est.score(X_test, y_test)"
   ]
  },
  {
   "cell_type": "code",
   "execution_count": 13,
   "metadata": {},
   "outputs": [
    {
     "data": {
      "text/plain": [
       "['..\\\\saved_models\\\\03_knn_best_est.joblib']"
      ]
     },
     "execution_count": 13,
     "metadata": {},
     "output_type": "execute_result"
    }
   ],
   "source": [
    "from sklearn.externals import joblib\n",
    "joblib.dump(est, r'..\\saved_models\\03_knn_best_est.joblib')"
   ]
  },
  {
   "cell_type": "markdown",
   "metadata": {},
   "source": [
    "## 2) Write a function that shifts the MNIST image in each cardinal direction. Then add a shifted image for each image to the training set."
   ]
  },
  {
   "cell_type": "code",
   "execution_count": null,
   "metadata": {},
   "outputs": [],
   "source": [
    "# https://docs.scipy.org/doc/scipy/reference/generated/scipy.ndimage.shift.html#scipy.ndimage.shift\n",
    "\n",
    "def im_shift_one(arr, direction):\n",
    "    dir_map = {'up': [0, 1], 'down': [0, -1], 'left': [-1, 0], 'right': [1, 0]}\n",
    "    "
   ]
  }
 ],
 "metadata": {
  "kernelspec": {
   "display_name": "Python 3",
   "language": "python",
   "name": "python3"
  },
  "language_info": {
   "codemirror_mode": {
    "name": "ipython",
    "version": 3
   },
   "file_extension": ".py",
   "mimetype": "text/x-python",
   "name": "python",
   "nbconvert_exporter": "python",
   "pygments_lexer": "ipython3",
   "version": "3.6.6"
  }
 },
 "nbformat": 4,
 "nbformat_minor": 2
}
