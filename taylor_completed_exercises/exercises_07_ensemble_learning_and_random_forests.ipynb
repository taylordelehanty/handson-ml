{
 "cells": [
  {
   "cell_type": "markdown",
   "metadata": {},
   "source": [
    "# 8) Combine different classifiers into an ensemble and train on the MNIST dataset"
   ]
  },
  {
   "cell_type": "code",
   "execution_count": 1,
   "metadata": {},
   "outputs": [],
   "source": [
    "from sklearn.datasets import fetch_mldata\n",
    "import numpy as np\n",
    "from sklearn.model_selection import train_test_split\n",
    "mnist = fetch_mldata('MNIST original')\n",
    "X, y = mnist['data'], mnist['target']\n",
    "X = X.astype(np.float64)\n",
    "X_tr_val, X_test, y_tr_val, y_test = train_test_split(X, y, test_size=15000)\n",
    "X_train, X_val, y_train, y_val = train_test_split(X_tr_val, y_tr_val, test_size=15000)"
   ]
  },
  {
   "cell_type": "code",
   "execution_count": 2,
   "metadata": {},
   "outputs": [
    {
     "data": {
      "text/plain": [
       "((40000, 784), (40000,), (15000, 784), (15000,), (15000, 784), (15000,))"
      ]
     },
     "execution_count": 2,
     "metadata": {},
     "output_type": "execute_result"
    }
   ],
   "source": [
    "X_train.shape, y_train.shape, X_val.shape, y_val.shape, X_test.shape, y_test.shape"
   ]
  },
  {
   "cell_type": "code",
   "execution_count": 3,
   "metadata": {},
   "outputs": [],
   "source": [
    "from sklearn.ensemble import RandomForestClassifier, ExtraTreesClassifier\n",
    "from sklearn.linear_model import SGDClassifier\n",
    "ensemble = {'Random Forest': RandomForestClassifier(max_depth=6),\n",
    "            'Extra Trees': ExtraTreesClassifier(max_depth=6),\n",
    "            'Stochastic Gradient Descent': SGDClassifier(loss='log')}"
   ]
  },
  {
   "cell_type": "code",
   "execution_count": 22,
   "metadata": {},
   "outputs": [
    {
     "name": "stdout",
     "output_type": "stream",
     "text": [
      "Random Forest:\ttrain: 86%\tvalidation: 85%\n",
      "Extra Trees:\ttrain: 81%\tvalidation: 80%\n"
     ]
    },
    {
     "name": "stderr",
     "output_type": "stream",
     "text": [
      "C:\\Users\\tdele\\Anaconda3\\envs\\ml\\lib\\site-packages\\sklearn\\linear_model\\stochastic_gradient.py:128: FutureWarning: max_iter and tol parameters have been added in <class 'sklearn.linear_model.stochastic_gradient.SGDClassifier'> in 0.19. If both are left unset, they default to max_iter=5 and tol=None. If tol is not None, max_iter defaults to max_iter=1000. From 0.21, default max_iter will be 1000, and default tol will be 1e-3.\n",
      "  \"and default tol will be 1e-3.\" % type(self), FutureWarning)\n"
     ]
    },
    {
     "name": "stdout",
     "output_type": "stream",
     "text": [
      "Stochastic Gradient Descent:\ttrain: 84%\tvalidation: 83%\n"
     ]
    }
   ],
   "source": [
    "from sklearn.pipeline import Pipeline\n",
    "from sklearn.metrics import accuracy_score, roc_auc_score\n",
    "from sklearn.base import clone\n",
    "estimators_alone = []\n",
    "y_train_preds = dict()\n",
    "y_val_preds = dict()\n",
    "y_test_preds = dict()\n",
    "for name, base_est in ensemble.items():\n",
    "    est = clone(base_est)\n",
    "    est.fit(X_train, y_train)\n",
    "    estimators_alone.append(est)\n",
    "    y_pred = est.predict(X_train)\n",
    "    y_train_preds[name] = y_pred\n",
    "    y_val_pred = est.predict(X_val)\n",
    "    y_val_preds[name] = y_val_pred\n",
    "    # For the stacking ensemble later:\n",
    "    y_test_pred = est.predict(X_test)\n",
    "    y_test_preds[name] = y_test_pred\n",
    "    print(\"{}:\\ttrain: {:.0%}\\tvalidation: {:.0%}\".format(name, accuracy_score(y_pred, y_train), accuracy_score(y_val_pred, y_val)))"
   ]
  },
  {
   "cell_type": "code",
   "execution_count": 6,
   "metadata": {},
   "outputs": [
    {
     "name": "stderr",
     "output_type": "stream",
     "text": [
      "C:\\Users\\tdele\\Anaconda3\\envs\\ml\\lib\\site-packages\\sklearn\\linear_model\\stochastic_gradient.py:128: FutureWarning: max_iter and tol parameters have been added in <class 'sklearn.linear_model.stochastic_gradient.SGDClassifier'> in 0.19. If both are left unset, they default to max_iter=5 and tol=None. If tol is not None, max_iter defaults to max_iter=1000. From 0.21, default max_iter will be 1000, and default tol will be 1e-3.\n",
      "  \"and default tol will be 1e-3.\" % type(self), FutureWarning)\n",
      "C:\\Users\\tdele\\Anaconda3\\envs\\ml\\lib\\site-packages\\sklearn\\preprocessing\\label.py:151: DeprecationWarning: The truth value of an empty array is ambiguous. Returning False, but in future this will result in an error. Use `array.size > 0` to check that an array is not empty.\n",
      "  if diff:\n"
     ]
    },
    {
     "name": "stdout",
     "output_type": "stream",
     "text": [
      "89% 88%\n"
     ]
    },
    {
     "name": "stderr",
     "output_type": "stream",
     "text": [
      "C:\\Users\\tdele\\Anaconda3\\envs\\ml\\lib\\site-packages\\sklearn\\preprocessing\\label.py:151: DeprecationWarning: The truth value of an empty array is ambiguous. Returning False, but in future this will result in an error. Use `array.size > 0` to check that an array is not empty.\n",
      "  if diff:\n"
     ]
    }
   ],
   "source": [
    "from sklearn.ensemble import VotingClassifier\n",
    "vote_clf = VotingClassifier(ensemble.items(), voting='hard')\n",
    "vote_clf.fit(X_train, y_train)\n",
    "y_pred = vote_clf.predict(X_train)\n",
    "y_val_pred = vote_clf.predict(X_val)\n",
    "print(\"{:.0%} {:.0%}\".format(accuracy_score(y_train, y_pred), accuracy_score(y_val_pred, y_val)))"
   ]
  },
  {
   "cell_type": "markdown",
   "metadata": {},
   "source": [
    "# 9) Make a new training set with the predictors and run them through a blender to make a stacked blender"
   ]
  },
  {
   "cell_type": "code",
   "execution_count": 23,
   "metadata": {},
   "outputs": [
    {
     "data": {
      "text/plain": [
       "array([[8., 8., 6.],\n",
       "       [7., 7., 7.],\n",
       "       [4., 4., 4.],\n",
       "       [0., 0., 0.],\n",
       "       [2., 2., 2.]])"
      ]
     },
     "execution_count": 23,
     "metadata": {},
     "output_type": "execute_result"
    }
   ],
   "source": [
    "def format_predictions(vals_dict):\n",
    "    arr_list = np.array(list(vals_dict.values()))\n",
    "    return arr_list.T\n",
    "X_stacking = format_predictions(y_train_preds)\n",
    "X_val_stacking = format_predictions(y_val_preds)\n",
    "X_test_stacking = format_predictions(y_test_preds)\n",
    "X_stacking[:5]"
   ]
  },
  {
   "cell_type": "code",
   "execution_count": 39,
   "metadata": {},
   "outputs": [
    {
     "name": "stderr",
     "output_type": "stream",
     "text": [
      "C:\\Users\\tdele\\Anaconda3\\envs\\ml\\lib\\site-packages\\sklearn\\ensemble\\forest.py:453: UserWarning: Some inputs do not have OOB scores. This probably means too few trees were used to compute any reliable oob estimates.\n",
      "  warn(\"Some inputs do not have OOB scores. \"\n",
      "C:\\Users\\tdele\\Anaconda3\\envs\\ml\\lib\\site-packages\\sklearn\\ensemble\\forest.py:458: RuntimeWarning: invalid value encountered in true_divide\n",
      "  predictions[k].sum(axis=1)[:, np.newaxis])\n"
     ]
    },
    {
     "data": {
      "text/plain": [
       "(0.883, 0.9048, 0.8902, 0.8909333333333334)"
      ]
     },
     "execution_count": 39,
     "metadata": {},
     "output_type": "execute_result"
    }
   ],
   "source": [
    "def fit_and_model_predictions(model, train, val, test, y_train):\n",
    "    model.fit(train, y_train)\n",
    "    train_stacked_pred = model.predict(train)\n",
    "    val_stacked_pred = model.predict(val)\n",
    "    test_stacked_pred = model.predict(test)\n",
    "    return model, train_stacked_pred, val_stacked_pred, test_stacked_pred\n",
    "\n",
    "from sklearn.svm import LinearSVC\n",
    "stack = ExtraTreesClassifier(max_depth=9, oob_score=True, bootstrap=True)\n",
    "stack, stacking_preds, stacking_val_preds, stacking_test_preds = fit_and_model_predictions(stack,\n",
    "                                                                                          X_stacking,\n",
    "                                                                                          X_val_stacking,\n",
    "                                                                                          X_test_stacking,\n",
    "                                                                                          y_train)\n",
    "\n",
    "stack.oob_score_, accuracy_score(stacking_preds, y_train), accuracy_score(stacking_val_preds, y_val), accuracy_score(stacking_test_preds, y_test)"
   ]
  },
  {
   "cell_type": "code",
   "execution_count": null,
   "metadata": {},
   "outputs": [],
   "source": []
  }
 ],
 "metadata": {
  "kernelspec": {
   "display_name": "Python 3",
   "language": "python",
   "name": "python3"
  },
  "language_info": {
   "codemirror_mode": {
    "name": "ipython",
    "version": 3
   },
   "file_extension": ".py",
   "mimetype": "text/x-python",
   "name": "python",
   "nbconvert_exporter": "python",
   "pygments_lexer": "ipython3",
   "version": "3.6.6"
  }
 },
 "nbformat": 4,
 "nbformat_minor": 2
}
