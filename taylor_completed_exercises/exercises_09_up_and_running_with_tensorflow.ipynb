{
 "cells": [
  {
   "cell_type": "code",
   "execution_count": 1,
   "metadata": {},
   "outputs": [
    {
     "name": "stderr",
     "output_type": "stream",
     "text": [
      "C:\\Users\\tdele\\Anaconda3\\envs\\ml\\lib\\site-packages\\h5py\\__init__.py:36: FutureWarning: Conversion of the second argument of issubdtype from `float` to `np.floating` is deprecated. In future, it will be treated as `np.float64 == np.dtype(float).type`.\n",
      "  from ._conv import register_converters as _register_converters\n"
     ]
    }
   ],
   "source": [
    "import tensorflow as tf\n",
    "import numpy as np\n",
    "from sklearn.datasets import make_moons\n",
    "\n",
    "n_sample = 5000\n",
    "\n",
    "X, y = make_moons(n_sample, noise=0.4)"
   ]
  },
  {
   "cell_type": "code",
   "execution_count": 2,
   "metadata": {},
   "outputs": [
    {
     "data": {
      "text/plain": [
       "((5000, 2), (5000,))"
      ]
     },
     "execution_count": 2,
     "metadata": {},
     "output_type": "execute_result"
    }
   ],
   "source": [
    "X.shape, y.shape"
   ]
  },
  {
   "cell_type": "code",
   "execution_count": 3,
   "metadata": {},
   "outputs": [
    {
     "data": {
      "text/plain": [
       "((3750, 2), (1250, 2), (3750, 1), (1250, 1))"
      ]
     },
     "execution_count": 3,
     "metadata": {},
     "output_type": "execute_result"
    }
   ],
   "source": [
    "from sklearn.model_selection import train_test_split\n",
    "X_train, X_test, y_train, y_test = train_test_split(X, y.reshape(-1, 1))\n",
    "X_train.shape, X_test.shape, y_train.shape, y_test.shape"
   ]
  },
  {
   "cell_type": "code",
   "execution_count": 4,
   "metadata": {},
   "outputs": [],
   "source": [
    "def reset_graph(seed=42):\n",
    "    tf.reset_default_graph()\n",
    "    tf.set_random_seed(seed)\n",
    "    np.random.seed(seed)"
   ]
  },
  {
   "cell_type": "code",
   "execution_count": 8,
   "metadata": {},
   "outputs": [],
   "source": [
    "from datetime import datetime\n",
    "\n",
    "now = datetime.utcnow().strftime(\"%Y%m%d%H%M%S\")\n",
    "root_logdir = \"tf_logs\"\n",
    "logdir = \"{}/run-{}/\".format(root_logdir, now)"
   ]
  },
  {
   "cell_type": "code",
   "execution_count": 9,
   "metadata": {},
   "outputs": [],
   "source": [
    "def fetch_batch(epoch, batch_index, batch_size):\n",
    "    np.random.seed(epoch * batch_index + batch_size)\n",
    "    m = X_train.shape[0]\n",
    "    indices = np.random.randint(m, size=batch_size)\n",
    "    X_batch = X_train[indices]\n",
    "    y_batch = y_train[indices]\n",
    "    return X_batch, y_batch\n",
    "\n",
    "def logistic_regression(epochs, batch_size, learning_rate=0.01):\n",
    "    # Reset graph to prevent interference\n",
    "    reset_graph()\n",
    "    \n",
    "    # Construction phase\n",
    "    m, n = X_train.shape\n",
    "    n_batches = int(np.ceil(m / batch_size))\n",
    "    X = tf.placeholder(tf.float32, #data type\n",
    "                       shape=(None, 2), #shape\n",
    "                       name='X' #name\n",
    "                      )\n",
    "    y = tf.placeholder(tf.float32,\n",
    "                       shape=(None, 1),\n",
    "                       name='y')\n",
    "    \n",
    "    theta = tf.Variable(tf.random_uniform([n, 1], -1.0, 1.0),\n",
    "                        dtype=tf.float32,\n",
    "                        name='theta')\n",
    "    \n",
    "    with tf.name_scope('predictions') as pred_scope:\n",
    "        logits = tf.matmul(X, theta, name='logits')\n",
    "        y_proba = tf.sigmoid(logits)\n",
    "    \n",
    "    with tf.name_scope('loss') as loss_scope:\n",
    "#         error = y_pred - y\n",
    "#         mse = tf.reduce_mean(tf.square(error), name='mse')\n",
    "        # Below is a better loss function for LogReg\n",
    "#         epsilon = 1e-7  # to avoid an overflow when computing the log\n",
    "#         loss = -tf.reduce_mean(y * tf.log(y_proba + epsilon) + (1 - y) * tf.log(1 - y_proba + epsilon))\n",
    "        # Or\n",
    "        loss = tf.losses.log_loss(y, y_proba)  # uses epsilon = 1e-7 by default\n",
    "        \n",
    "    with tf.name_scope('gradient-descent') as gd_scope:\n",
    "        optimizer = tf.train.GradientDescentOptimizer(learning_rate=learning_rate)\n",
    "        training_op = optimizer.minimize(loss)\n",
    "    \n",
    "    # Initialization phase\n",
    "    init = tf.global_variables_initializer()\n",
    "    saver = tf.train.Saver()\n",
    "    loss_summary = tf.summary.scalar('Loss', loss)\n",
    "    file_writer = tf.summary.FileWriter(logdir, tf.get_default_graph())\n",
    "    \n",
    "    with tf.Session() as sess:\n",
    "        sess.run(init)\n",
    "        for epoch in range(epochs):\n",
    "            for batch_index in range(n_batches):\n",
    "                X_batch, y_batch = fetch_batch(epoch, batch_index, batch_size)\n",
    "                if batch_index % 10 == 0:\n",
    "                    summary_str = loss_summary.eval(feed_dict={X: X_batch, y: y_batch})\n",
    "                    step = epoch * n_batches + batch_index\n",
    "                    file_writer.add_summary(summary_str, step)\n",
    "                sess.run(training_op, feed_dict={X: X_batch, y: y_batch})\n",
    "        best_theta = theta.eval()\n",
    "        \n",
    "    file_writer.flush()\n",
    "    file_writer.close()\n",
    "    print(\"Best theta:\")\n",
    "    print(best_theta)"
   ]
  },
  {
   "cell_type": "code",
   "execution_count": 10,
   "metadata": {},
   "outputs": [
    {
     "name": "stdout",
     "output_type": "stream",
     "text": [
      "Best theta:\n",
      "[[ 1.2300317]\n",
      " [-2.6846046]]\n"
     ]
    }
   ],
   "source": [
    "epochs = 1000\n",
    "batch_size = 400\n",
    "\n",
    "logistic_regression(epochs, batch_size)"
   ]
  },
  {
   "cell_type": "code",
   "execution_count": null,
   "metadata": {},
   "outputs": [],
   "source": []
  }
 ],
 "metadata": {
  "kernelspec": {
   "display_name": "Python 3",
   "language": "python",
   "name": "python3"
  },
  "language_info": {
   "codemirror_mode": {
    "name": "ipython",
    "version": 3
   },
   "file_extension": ".py",
   "mimetype": "text/x-python",
   "name": "python",
   "nbconvert_exporter": "python",
   "pygments_lexer": "ipython3",
   "version": "3.6.6"
  }
 },
 "nbformat": 4,
 "nbformat_minor": 2
}
