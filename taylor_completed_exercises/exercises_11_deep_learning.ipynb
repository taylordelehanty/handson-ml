{
 "cells": [
  {
   "cell_type": "code",
   "execution_count": 1,
   "metadata": {},
   "outputs": [
    {
     "name": "stderr",
     "output_type": "stream",
     "text": [
      "C:\\Users\\tdele\\Anaconda3\\envs\\ml\\lib\\site-packages\\h5py\\__init__.py:36: FutureWarning: Conversion of the second argument of issubdtype from `float` to `np.floating` is deprecated. In future, it will be treated as `np.float64 == np.dtype(float).type`.\n",
      "  from ._conv import register_converters as _register_converters\n"
     ]
    },
    {
     "data": {
      "text/plain": [
       "[(60000, 784), (60000,), (60000, 784), (10000,)]"
      ]
     },
     "execution_count": 1,
     "metadata": {},
     "output_type": "execute_result"
    }
   ],
   "source": [
    "import tensorflow as tf\n",
    "import numpy as np\n",
    "(X_train, y_train), (X_test, y_test) = tf.keras.datasets.mnist.load_data()\n",
    "X_train = X_train.reshape((-1, 28*28))\n",
    "X_test = X_train.reshape((-1, 28*28))\n",
    "y_train = y_train.astype(np.int32)\n",
    "y_test = y_test.astype(np.int32)\n",
    "\n",
    "n_inputs = X_train.shape[1]\n",
    "\n",
    "[dset.shape for dset in [X_train, y_train, X_test, y_test]]"
   ]
  },
  {
   "cell_type": "markdown",
   "metadata": {},
   "source": [
    "8.a."
   ]
  },
  {
   "cell_type": "code",
   "execution_count": 2,
   "metadata": {},
   "outputs": [],
   "source": [
    "from functools import partial\n",
    "\n",
    "tf.reset_default_graph()\n",
    "\n",
    "layers_neurons = [100 for _ in range(5)]\n",
    "\n",
    "X = tf.placeholder(tf.float32, (None, n_inputs), name='X')\n",
    "y = tf.placeholder(tf.int32, (None), name='y')\n",
    "\n",
    "he_init = tf.variance_scaling_initializer()\n",
    "\n",
    "with tf.name_scope('dnn'):\n",
    "    layer = X\n",
    "    for i, neurons in enumerate(layers_neurons):\n",
    "        hidden_layer = tf.layers.dense(layer, neurons, activation=tf.nn.elu, kernel_initializer=he_init, name='hidden{}'.format(i))\n",
    "        layer = hidden_layer\n",
    "    logits = tf.layers.dense(layer, 5, kernel_initializer=he_init, name='logits')\n",
    "    y_proba = tf.nn.softmax(logits, name='softmax')\n",
    "        \n",
    "with tf.name_scope('loss'):\n",
    "    xent = tf.nn.sparse_softmax_cross_entropy_with_logits(labels=y, logits=logits, name='cross_entropy')\n",
    "    loss = tf.reduce_mean(xent, name='loss')\n",
    "    \n",
    "with tf.name_scope('optimize'):\n",
    "    optimizer = tf.train.AdamOptimizer()\n",
    "    training_op = optimizer.minimize(loss)\n",
    "    \n",
    "with tf.name_scope('metrics'):\n",
    "    precision = tf.metrics.precision(logits, y, name='precision')\n",
    "    \n",
    "init = tf.global_variables_initializer()\n",
    "saver = tf.train.Saver()"
   ]
  },
  {
   "cell_type": "markdown",
   "metadata": {},
   "source": [
    "8.b."
   ]
  },
  {
   "cell_type": "code",
   "execution_count": 3,
   "metadata": {},
   "outputs": [],
   "source": [
    "X_train04 = X_train[y_train < 5]\n",
    "y_train04 = y_train[y_train < 5]\n",
    "X_train59 = X_train[y_train > 4]\n",
    "y_train59 = y_train[y_train > 4]"
   ]
  },
  {
   "cell_type": "code",
   "execution_count": 4,
   "metadata": {},
   "outputs": [],
   "source": [
    "from support.neural_nets import *\n",
    "\n",
    "epochs = 50\n",
    "batch_size = 100\n",
    "# n_batches = int(np.ceil(X_train04.shape[0]/batch_size))\n",
    "\n",
    "with tf.Session() as sess:\n",
    "    sess.run(init)\n",
    "    for epoch in range(epochs):\n",
    "        for X_batch, y_batch in fetch_batch(X_train04, y_train04, batch_size):\n",
    "            sess.run(training_op, feed_dict={X: X_batch, y: y_batch})\n",
    "        if epoch+1 % 10 == 0:\n",
    "            print(\"Epoch {}\")\n",
    "            for X_batch, y_batch in fetch_batch(X_train04, y_train04):\n",
    "                sess.eval(precision, feed_dict={X: X_batch, y: y_batch})\n",
    "            saver.save(sess, './tmp/dl/dl_ckpt_{}.ckpt'.format(epoch))\n",
    "    saver.save(sess, './tmp/dl/dl_final_model.ckpt')"
   ]
  },
  {
   "cell_type": "code",
   "execution_count": null,
   "metadata": {},
   "outputs": [],
   "source": []
  }
 ],
 "metadata": {
  "kernelspec": {
   "display_name": "Python 3",
   "language": "python",
   "name": "python3"
  },
  "language_info": {
   "codemirror_mode": {
    "name": "ipython",
    "version": 3
   },
   "file_extension": ".py",
   "mimetype": "text/x-python",
   "name": "python",
   "nbconvert_exporter": "python",
   "pygments_lexer": "ipython3",
   "version": "3.6.6"
  }
 },
 "nbformat": 4,
 "nbformat_minor": 2
}
